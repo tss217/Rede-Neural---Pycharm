{
 "cells": [
  {
   "cell_type": "code",
   "execution_count": 1,
   "metadata": {},
   "outputs": [],
   "source": [
    "import torch\n",
    "import numpy as np "
   ]
  },
  {
   "cell_type": "code",
   "execution_count": 3,
   "metadata": {},
   "outputs": [
    {
     "name": "stdout",
     "output_type": "stream",
     "text": [
      "Tensor original: tensor([-0.4134,  0.6266, -1.5788, -1.4857, -1.2558, -0.8762,  0.3288,  1.0386,\n",
      "        -0.7258, -0.2954], device='cuda:0')\n",
      "Dispositivo do tensor original: cuda:0\n",
      "Test Tensor: tensor([1], device='cuda:0')\n",
      "Dispositivo do Test Tensor: cuda:0\n"
     ]
    }
   ],
   "source": [
    "\n",
    "import torch\n",
    "\n",
    "tnsr = torch.randn(10)\n",
    "\n",
    "if torch.cuda.is_available():\n",
    "    device = torch.device(\"cuda\")\n",
    "else: \n",
    "    device = torch.device(\"cpu\")\n",
    "\n",
    "tnsr = tnsr.to(device)\n",
    "print(\"Tensor original:\", tnsr)\n",
    "print(\"Dispositivo do tensor original:\", tnsr.device)\n",
    "\n",
    "\n",
    "\n"
   ]
  }
 ],
 "metadata": {
  "kernelspec": {
   "display_name": "Python 3",
   "language": "python",
   "name": "python3"
  },
  "language_info": {
   "codemirror_mode": {
    "name": "ipython",
    "version": 3
   },
   "file_extension": ".py",
   "mimetype": "text/x-python",
   "name": "python",
   "nbconvert_exporter": "python",
   "pygments_lexer": "ipython3",
   "version": "3.12.0"
  }
 },
 "nbformat": 4,
 "nbformat_minor": 2
}
